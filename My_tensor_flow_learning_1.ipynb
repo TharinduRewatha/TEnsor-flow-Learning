{
  "nbformat": 4,
  "nbformat_minor": 0,
  "metadata": {
    "colab": {
      "name": "My tensor flow learning 1.ipynb",
      "provenance": [],
      "collapsed_sections": [],
      "authorship_tag": "ABX9TyPwM3/ofWHvBirlFviq6/no",
      "include_colab_link": true
    },
    "kernelspec": {
      "name": "python3",
      "display_name": "Python 3"
    }
  },
  "cells": [
    {
      "cell_type": "markdown",
      "metadata": {
        "id": "view-in-github",
        "colab_type": "text"
      },
      "source": [
        "<a href=\"https://colab.research.google.com/github/TharinduRewatha/TEnsor-flow-Learning/blob/master/My_tensor_flow_learning_1.ipynb\" target=\"_parent\"><img src=\"https://colab.research.google.com/assets/colab-badge.svg\" alt=\"Open In Colab\"/></a>"
      ]
    },
    {
      "cell_type": "code",
      "metadata": {
        "id": "OKyWSI7nCJlw",
        "colab_type": "code",
        "colab": {}
      },
      "source": [
        "%tensorflow_version 2.x\n",
        "import tensorflow as tf\n",
        "print(tf.version)"
      ],
      "execution_count": null,
      "outputs": []
    },
    {
      "cell_type": "markdown",
      "metadata": {
        "id": "Wttx4tuX2tam",
        "colab_type": "text"
      },
      "source": [
        "1) Creating a tensor"
      ]
    },
    {
      "cell_type": "code",
      "metadata": {
        "id": "lb7L3PS820zg",
        "colab_type": "code",
        "colab": {}
      },
      "source": [
        "string = tf.Variable(\"this is a string\", tf.string) \n",
        "number = tf.Variable(324, tf.int16)\n",
        "floating = tf.Variable(3.567, tf.float64)"
      ],
      "execution_count": 11,
      "outputs": []
    },
    {
      "cell_type": "markdown",
      "metadata": {
        "id": "a21p58F71xPB",
        "colab_type": "text"
      },
      "source": [
        "2) Ranking of a tensor"
      ]
    },
    {
      "cell_type": "code",
      "metadata": {
        "id": "HaZPZGOq0c6X",
        "colab_type": "code",
        "colab": {}
      },
      "source": [
        "rank1_tensor = tf.Variable([\"Test\"], tf.string) \n",
        "rank2_tensor = tf.Variable([[\"test\", \"ok\"], [\"test\", \"yes\"]], tf.string)\n",
        "tf.rank(rank1_tensor)\n",
        "#tf.rank(number)"
      ],
      "execution_count": null,
      "outputs": []
    },
    {
      "cell_type": "markdown",
      "metadata": {
        "id": "ZmzUmEr53b04",
        "colab_type": "text"
      },
      "source": [
        "3) Shape of a tensor"
      ]
    },
    {
      "cell_type": "code",
      "metadata": {
        "id": "NoV9tSQvDOU7",
        "colab_type": "code",
        "colab": {}
      },
      "source": [
        "rank2_tensor.shape\n",
        "#floating.shape"
      ],
      "execution_count": null,
      "outputs": []
    },
    {
      "cell_type": "markdown",
      "metadata": {
        "id": "o78UfYIm5uE6",
        "colab_type": "text"
      },
      "source": [
        "4) Reshaping a tensor"
      ]
    },
    {
      "cell_type": "code",
      "metadata": {
        "id": "J9BCS4QH5wn9",
        "colab_type": "code",
        "colab": {}
      },
      "source": [
        "tensor1 = tf.ones([1,2,3])  # tf.ones() creates a shape [1,2,3] tensor full of ones\n",
        "tensor2 = tf.reshape(tensor1, [2,3,1])  # reshape existing data to shape [2,3,1]\n",
        "tensor3 = tf.reshape(tensor2, [3, -1])  # -1 tells the tensor to calculate the size of the dimension in that place\n",
        "                                        # this will reshape the tensor to [3,2]\n",
        "                                                                             \n",
        "# The numer of elements in the reshaped tensor MUST match the number in the original\n",
        "\n",
        "print(tensor1)\n",
        "print(tensor2)\n",
        "print(tensor3)\n",
        "# Notice the changes in shape"
      ],
      "execution_count": null,
      "outputs": []
    },
    {
      "cell_type": "markdown",
      "metadata": {
        "id": "Gg58wGEe7gOu",
        "colab_type": "text"
      },
      "source": [
        "                   **Machine Learning Algorithms**"
      ]
    },
    {
      "cell_type": "code",
      "metadata": {
        "id": "E4V3x8G67vfy",
        "colab_type": "code",
        "colab": {}
      },
      "source": [
        ""
      ],
      "execution_count": null,
      "outputs": []
    }
  ]
}