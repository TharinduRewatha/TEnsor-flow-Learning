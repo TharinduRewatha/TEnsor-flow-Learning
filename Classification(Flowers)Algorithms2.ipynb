{
  "nbformat": 4,
  "nbformat_minor": 0,
  "metadata": {
    "colab": {
      "name": "Classification(Flowers)Algorithms2.ipynb",
      "provenance": [],
      "authorship_tag": "ABX9TyNryTbvMA9GQMpjIOz+3OnZ",
      "include_colab_link": true
    },
    "kernelspec": {
      "name": "python3",
      "display_name": "Python 3"
    }
  },
  "cells": [
    {
      "cell_type": "markdown",
      "metadata": {
        "id": "view-in-github",
        "colab_type": "text"
      },
      "source": [
        "<a href=\"https://colab.research.google.com/github/TharinduRewatha/TEnsor-flow-Learning/blob/master/Classification(Flowers)Algorithms2.ipynb\" target=\"_parent\"><img src=\"https://colab.research.google.com/assets/colab-badge.svg\" alt=\"Open In Colab\"/></a>"
      ]
    },
    {
      "cell_type": "code",
      "metadata": {
        "id": "AIL8wKDp9LXM",
        "colab_type": "code",
        "colab": {}
      },
      "source": [
        "%tensorflow_version 2.x"
      ],
      "execution_count": 11,
      "outputs": []
    },
    {
      "cell_type": "code",
      "metadata": {
        "id": "ZDElOxby_Xh5",
        "colab_type": "code",
        "colab": {}
      },
      "source": [
        "from __future__ import absolute_import, division, print_function, unicode_literals\n",
        "\n",
        "\n",
        "import tensorflow as tf\n",
        "\n",
        "import pandas as pd"
      ],
      "execution_count": 12,
      "outputs": []
    },
    {
      "cell_type": "code",
      "metadata": {
        "id": "N1gxs1sT_muH",
        "colab_type": "code",
        "colab": {}
      },
      "source": [
        "CSV_COLUMN_NAMES = ['SepalLength', 'SepalWidth', 'PetalLength', 'PetalWidth', 'Species']\n",
        "SPECIES = ['Setosa', 'Versicolor', 'Virginica']\n",
        "# Lets define some constants to help us later on"
      ],
      "execution_count": 13,
      "outputs": []
    },
    {
      "cell_type": "code",
      "metadata": {
        "id": "Cubgp5Iq_rgu",
        "colab_type": "code",
        "colab": {}
      },
      "source": [
        "train_path = tf.keras.utils.get_file(\n",
        "    \"iris_training.csv\", \"https://storage.googleapis.com/download.tensorflow.org/data/iris_training.csv\")\n",
        "test_path = tf.keras.utils.get_file(\n",
        "    \"iris_test.csv\", \"https://storage.googleapis.com/download.tensorflow.org/data/iris_test.csv\")\n",
        "\n",
        "train = pd.read_csv(train_path, names=CSV_COLUMN_NAMES, header=0)\n",
        "test = pd.read_csv(test_path, names=CSV_COLUMN_NAMES, header=0)\n",
        "# Here we use keras (a module inside of TensorFlow) to grab our datasets and read them into a pandas dataframe"
      ],
      "execution_count": 17,
      "outputs": []
    },
    {
      "cell_type": "code",
      "metadata": {
        "id": "cSFyyLHz_w4D",
        "colab_type": "code",
        "colab": {
          "base_uri": "https://localhost:8080/",
          "height": 204
        },
        "outputId": "6589a789-761c-4c10-d73e-44e665aa3445"
      },
      "source": [
        "train.head()"
      ],
      "execution_count": 18,
      "outputs": [
        {
          "output_type": "execute_result",
          "data": {
            "text/html": [
              "<div>\n",
              "<style scoped>\n",
              "    .dataframe tbody tr th:only-of-type {\n",
              "        vertical-align: middle;\n",
              "    }\n",
              "\n",
              "    .dataframe tbody tr th {\n",
              "        vertical-align: top;\n",
              "    }\n",
              "\n",
              "    .dataframe thead th {\n",
              "        text-align: right;\n",
              "    }\n",
              "</style>\n",
              "<table border=\"1\" class=\"dataframe\">\n",
              "  <thead>\n",
              "    <tr style=\"text-align: right;\">\n",
              "      <th></th>\n",
              "      <th>SepalLength</th>\n",
              "      <th>SepalWidth</th>\n",
              "      <th>PetalLength</th>\n",
              "      <th>PetalWidth</th>\n",
              "      <th>Species</th>\n",
              "    </tr>\n",
              "  </thead>\n",
              "  <tbody>\n",
              "    <tr>\n",
              "      <th>0</th>\n",
              "      <td>6.4</td>\n",
              "      <td>2.8</td>\n",
              "      <td>5.6</td>\n",
              "      <td>2.2</td>\n",
              "      <td>2</td>\n",
              "    </tr>\n",
              "    <tr>\n",
              "      <th>1</th>\n",
              "      <td>5.0</td>\n",
              "      <td>2.3</td>\n",
              "      <td>3.3</td>\n",
              "      <td>1.0</td>\n",
              "      <td>1</td>\n",
              "    </tr>\n",
              "    <tr>\n",
              "      <th>2</th>\n",
              "      <td>4.9</td>\n",
              "      <td>2.5</td>\n",
              "      <td>4.5</td>\n",
              "      <td>1.7</td>\n",
              "      <td>2</td>\n",
              "    </tr>\n",
              "    <tr>\n",
              "      <th>3</th>\n",
              "      <td>4.9</td>\n",
              "      <td>3.1</td>\n",
              "      <td>1.5</td>\n",
              "      <td>0.1</td>\n",
              "      <td>0</td>\n",
              "    </tr>\n",
              "    <tr>\n",
              "      <th>4</th>\n",
              "      <td>5.7</td>\n",
              "      <td>3.8</td>\n",
              "      <td>1.7</td>\n",
              "      <td>0.3</td>\n",
              "      <td>0</td>\n",
              "    </tr>\n",
              "  </tbody>\n",
              "</table>\n",
              "</div>"
            ],
            "text/plain": [
              "   SepalLength  SepalWidth  PetalLength  PetalWidth  Species\n",
              "0          6.4         2.8          5.6         2.2        2\n",
              "1          5.0         2.3          3.3         1.0        1\n",
              "2          4.9         2.5          4.5         1.7        2\n",
              "3          4.9         3.1          1.5         0.1        0\n",
              "4          5.7         3.8          1.7         0.3        0"
            ]
          },
          "metadata": {
            "tags": []
          },
          "execution_count": 18
        }
      ]
    },
    {
      "cell_type": "code",
      "metadata": {
        "id": "eGHGTaJ9_10s",
        "colab_type": "code",
        "colab": {
          "base_uri": "https://localhost:8080/",
          "height": 204
        },
        "outputId": "657a68fc-f8fa-47d2-84bf-e9bfa7b4fdc1"
      },
      "source": [
        "train_y = train.pop('Species')\n",
        "test_y = test.pop('Species')\n",
        "train.head() # the species column is now gone"
      ],
      "execution_count": 19,
      "outputs": [
        {
          "output_type": "execute_result",
          "data": {
            "text/html": [
              "<div>\n",
              "<style scoped>\n",
              "    .dataframe tbody tr th:only-of-type {\n",
              "        vertical-align: middle;\n",
              "    }\n",
              "\n",
              "    .dataframe tbody tr th {\n",
              "        vertical-align: top;\n",
              "    }\n",
              "\n",
              "    .dataframe thead th {\n",
              "        text-align: right;\n",
              "    }\n",
              "</style>\n",
              "<table border=\"1\" class=\"dataframe\">\n",
              "  <thead>\n",
              "    <tr style=\"text-align: right;\">\n",
              "      <th></th>\n",
              "      <th>SepalLength</th>\n",
              "      <th>SepalWidth</th>\n",
              "      <th>PetalLength</th>\n",
              "      <th>PetalWidth</th>\n",
              "    </tr>\n",
              "  </thead>\n",
              "  <tbody>\n",
              "    <tr>\n",
              "      <th>0</th>\n",
              "      <td>6.4</td>\n",
              "      <td>2.8</td>\n",
              "      <td>5.6</td>\n",
              "      <td>2.2</td>\n",
              "    </tr>\n",
              "    <tr>\n",
              "      <th>1</th>\n",
              "      <td>5.0</td>\n",
              "      <td>2.3</td>\n",
              "      <td>3.3</td>\n",
              "      <td>1.0</td>\n",
              "    </tr>\n",
              "    <tr>\n",
              "      <th>2</th>\n",
              "      <td>4.9</td>\n",
              "      <td>2.5</td>\n",
              "      <td>4.5</td>\n",
              "      <td>1.7</td>\n",
              "    </tr>\n",
              "    <tr>\n",
              "      <th>3</th>\n",
              "      <td>4.9</td>\n",
              "      <td>3.1</td>\n",
              "      <td>1.5</td>\n",
              "      <td>0.1</td>\n",
              "    </tr>\n",
              "    <tr>\n",
              "      <th>4</th>\n",
              "      <td>5.7</td>\n",
              "      <td>3.8</td>\n",
              "      <td>1.7</td>\n",
              "      <td>0.3</td>\n",
              "    </tr>\n",
              "  </tbody>\n",
              "</table>\n",
              "</div>"
            ],
            "text/plain": [
              "   SepalLength  SepalWidth  PetalLength  PetalWidth\n",
              "0          6.4         2.8          5.6         2.2\n",
              "1          5.0         2.3          3.3         1.0\n",
              "2          4.9         2.5          4.5         1.7\n",
              "3          4.9         3.1          1.5         0.1\n",
              "4          5.7         3.8          1.7         0.3"
            ]
          },
          "metadata": {
            "tags": []
          },
          "execution_count": 19
        }
      ]
    },
    {
      "cell_type": "code",
      "metadata": {
        "id": "Jf_PTMs0_9EJ",
        "colab_type": "code",
        "colab": {
          "base_uri": "https://localhost:8080/",
          "height": 35
        },
        "outputId": "3f5fc637-c43f-4301-d138-5190532bf0b1"
      },
      "source": [
        "train.shape  # we have 120 entires with 4 features"
      ],
      "execution_count": 20,
      "outputs": [
        {
          "output_type": "execute_result",
          "data": {
            "text/plain": [
              "(120, 4)"
            ]
          },
          "metadata": {
            "tags": []
          },
          "execution_count": 20
        }
      ]
    },
    {
      "cell_type": "code",
      "metadata": {
        "id": "Ny7GOfcJAFKb",
        "colab_type": "code",
        "colab": {}
      },
      "source": [
        "def input_fn(features, labels, training=True, batch_size=256):\n",
        "    # Convert the inputs to a Dataset.\n",
        "    dataset = tf.data.Dataset.from_tensor_slices((dict(features), labels))\n",
        "\n",
        "    # Shuffle and repeat if you are in training mode.\n",
        "    if training:\n",
        "        dataset = dataset.shuffle(1000).repeat()\n",
        "    \n",
        "    return dataset.batch(batch_size)"
      ],
      "execution_count": 21,
      "outputs": []
    },
    {
      "cell_type": "code",
      "metadata": {
        "id": "Tbx9qu-4BG-e",
        "colab_type": "code",
        "colab": {
          "base_uri": "https://localhost:8080/",
          "height": 55
        },
        "outputId": "367f3e8b-830e-4bc3-bd6c-b4f23f4ce69c"
      },
      "source": [
        "# Feature columns describe how to use the input.\n",
        "my_feature_columns = []\n",
        "for key in train.keys():\n",
        "    my_feature_columns.append(tf.feature_column.numeric_column(key=key))\n",
        "print(my_feature_columns)"
      ],
      "execution_count": 22,
      "outputs": [
        {
          "output_type": "stream",
          "text": [
            "[NumericColumn(key='SepalLength', shape=(1,), default_value=None, dtype=tf.float32, normalizer_fn=None), NumericColumn(key='SepalWidth', shape=(1,), default_value=None, dtype=tf.float32, normalizer_fn=None), NumericColumn(key='PetalLength', shape=(1,), default_value=None, dtype=tf.float32, normalizer_fn=None), NumericColumn(key='PetalWidth', shape=(1,), default_value=None, dtype=tf.float32, normalizer_fn=None)]\n"
          ],
          "name": "stdout"
        }
      ]
    },
    {
      "cell_type": "code",
      "metadata": {
        "id": "ZqkOty61Z0LM",
        "colab_type": "code",
        "colab": {
          "base_uri": "https://localhost:8080/",
          "height": 199
        },
        "outputId": "5b1e1caa-3cdc-4bc7-ba7b-eb0a55d47630"
      },
      "source": [
        "# Build a DNN with 2 hidden layers with 30 and 10 hidden nodes each.\n",
        "classifier = tf.estimator.DNNClassifier(\n",
        "    feature_columns=my_feature_columns,\n",
        "    # Two hidden layers of 30 and 10 nodes respectively.\n",
        "    hidden_units=[30, 10],\n",
        "    # The model must choose between 3 classes.\n",
        "    n_classes=3)"
      ],
      "execution_count": 23,
      "outputs": [
        {
          "output_type": "stream",
          "text": [
            "INFO:tensorflow:Using default config.\n",
            "WARNING:tensorflow:Using temporary folder as model directory: /tmp/tmpz4bt9jk2\n",
            "INFO:tensorflow:Using config: {'_model_dir': '/tmp/tmpz4bt9jk2', '_tf_random_seed': None, '_save_summary_steps': 100, '_save_checkpoints_steps': None, '_save_checkpoints_secs': 600, '_session_config': allow_soft_placement: true\n",
            "graph_options {\n",
            "  rewrite_options {\n",
            "    meta_optimizer_iterations: ONE\n",
            "  }\n",
            "}\n",
            ", '_keep_checkpoint_max': 5, '_keep_checkpoint_every_n_hours': 10000, '_log_step_count_steps': 100, '_train_distribute': None, '_device_fn': None, '_protocol': None, '_eval_distribute': None, '_experimental_distribute': None, '_experimental_max_worker_delay_secs': None, '_session_creation_timeout_secs': 7200, '_service': None, '_cluster_spec': ClusterSpec({}), '_task_type': 'worker', '_task_id': 0, '_global_id_in_cluster': 0, '_master': '', '_evaluation_master': '', '_is_chief': True, '_num_ps_replicas': 0, '_num_worker_replicas': 1}\n"
          ],
          "name": "stdout"
        }
      ]
    },
    {
      "cell_type": "code",
      "metadata": {
        "id": "brZOpSUkZ0WZ",
        "colab_type": "code",
        "colab": {
          "base_uri": "https://localhost:8080/",
          "height": 1000
        },
        "outputId": "1e644c99-2e57-423a-b45f-1a883bcd2a6f"
      },
      "source": [
        "classifier.train(\n",
        "    input_fn=lambda: input_fn(train, train_y, training=True),\n",
        "    steps=5000)\n",
        "# We include a lambda to avoid creating an inner function previously"
      ],
      "execution_count": 24,
      "outputs": [
        {
          "output_type": "stream",
          "text": [
            "INFO:tensorflow:Calling model_fn.\n",
            "WARNING:tensorflow:Layer dnn is casting an input tensor from dtype float64 to the layer's dtype of float32, which is new behavior in TensorFlow 2.  The layer has dtype float32 because its dtype defaults to floatx.\n",
            "\n",
            "If you intended to run this layer in float32, you can safely ignore this warning. If in doubt, this warning is likely only an issue if you are porting a TensorFlow 1.X model to TensorFlow 2.\n",
            "\n",
            "To change all layers to have dtype float64 by default, call `tf.keras.backend.set_floatx('float64')`. To change just this layer, pass dtype='float64' to the layer constructor. If you are the author of this layer, you can disable autocasting by passing autocast=False to the base Layer constructor.\n",
            "\n",
            "WARNING:tensorflow:From /usr/local/lib/python3.6/dist-packages/tensorflow/python/keras/optimizer_v2/adagrad.py:83: calling Constant.__init__ (from tensorflow.python.ops.init_ops) with dtype is deprecated and will be removed in a future version.\n",
            "Instructions for updating:\n",
            "Call initializer instance with the dtype argument instead of passing it to the constructor\n",
            "INFO:tensorflow:Done calling model_fn.\n",
            "INFO:tensorflow:Create CheckpointSaverHook.\n",
            "INFO:tensorflow:Graph was finalized.\n",
            "INFO:tensorflow:Running local_init_op.\n",
            "INFO:tensorflow:Done running local_init_op.\n",
            "INFO:tensorflow:Calling checkpoint listeners before saving checkpoint 0...\n",
            "INFO:tensorflow:Saving checkpoints for 0 into /tmp/tmpz4bt9jk2/model.ckpt.\n",
            "INFO:tensorflow:Calling checkpoint listeners after saving checkpoint 0...\n",
            "INFO:tensorflow:loss = 1.5534785, step = 0\n",
            "INFO:tensorflow:global_step/sec: 508.714\n",
            "INFO:tensorflow:loss = 1.1910205, step = 100 (0.199 sec)\n",
            "INFO:tensorflow:global_step/sec: 608.888\n",
            "INFO:tensorflow:loss = 1.1397665, step = 200 (0.163 sec)\n",
            "INFO:tensorflow:global_step/sec: 524.239\n",
            "INFO:tensorflow:loss = 1.0940384, step = 300 (0.192 sec)\n",
            "INFO:tensorflow:global_step/sec: 653.372\n",
            "INFO:tensorflow:loss = 1.0678203, step = 400 (0.155 sec)\n",
            "INFO:tensorflow:global_step/sec: 633.078\n",
            "INFO:tensorflow:loss = 1.036288, step = 500 (0.156 sec)\n",
            "INFO:tensorflow:global_step/sec: 599.796\n",
            "INFO:tensorflow:loss = 1.0146477, step = 600 (0.169 sec)\n",
            "INFO:tensorflow:global_step/sec: 609.41\n",
            "INFO:tensorflow:loss = 0.99495304, step = 700 (0.162 sec)\n",
            "INFO:tensorflow:global_step/sec: 569.293\n",
            "INFO:tensorflow:loss = 0.9794502, step = 800 (0.176 sec)\n",
            "INFO:tensorflow:global_step/sec: 620.145\n",
            "INFO:tensorflow:loss = 0.9592957, step = 900 (0.162 sec)\n",
            "INFO:tensorflow:global_step/sec: 609.071\n",
            "INFO:tensorflow:loss = 0.9371742, step = 1000 (0.163 sec)\n",
            "INFO:tensorflow:global_step/sec: 646.44\n",
            "INFO:tensorflow:loss = 0.92933595, step = 1100 (0.154 sec)\n",
            "INFO:tensorflow:global_step/sec: 627.928\n",
            "INFO:tensorflow:loss = 0.91397536, step = 1200 (0.161 sec)\n",
            "INFO:tensorflow:global_step/sec: 597.92\n",
            "INFO:tensorflow:loss = 0.8970594, step = 1300 (0.168 sec)\n",
            "INFO:tensorflow:global_step/sec: 576.303\n",
            "INFO:tensorflow:loss = 0.8889097, step = 1400 (0.171 sec)\n",
            "INFO:tensorflow:global_step/sec: 541.682\n",
            "INFO:tensorflow:loss = 0.8742329, step = 1500 (0.187 sec)\n",
            "INFO:tensorflow:global_step/sec: 653.322\n",
            "INFO:tensorflow:loss = 0.862485, step = 1600 (0.153 sec)\n",
            "INFO:tensorflow:global_step/sec: 636.373\n",
            "INFO:tensorflow:loss = 0.8442999, step = 1700 (0.155 sec)\n",
            "INFO:tensorflow:global_step/sec: 634.336\n",
            "INFO:tensorflow:loss = 0.83993983, step = 1800 (0.158 sec)\n",
            "INFO:tensorflow:global_step/sec: 656.292\n",
            "INFO:tensorflow:loss = 0.8282083, step = 1900 (0.151 sec)\n",
            "INFO:tensorflow:global_step/sec: 650.331\n",
            "INFO:tensorflow:loss = 0.81679, step = 2000 (0.156 sec)\n",
            "INFO:tensorflow:global_step/sec: 590.869\n",
            "INFO:tensorflow:loss = 0.8089856, step = 2100 (0.167 sec)\n",
            "INFO:tensorflow:global_step/sec: 618.551\n",
            "INFO:tensorflow:loss = 0.7972069, step = 2200 (0.162 sec)\n",
            "INFO:tensorflow:global_step/sec: 610.747\n",
            "INFO:tensorflow:loss = 0.7918812, step = 2300 (0.167 sec)\n",
            "INFO:tensorflow:global_step/sec: 618.55\n",
            "INFO:tensorflow:loss = 0.78078455, step = 2400 (0.159 sec)\n",
            "INFO:tensorflow:global_step/sec: 589.42\n",
            "INFO:tensorflow:loss = 0.7683346, step = 2500 (0.170 sec)\n",
            "INFO:tensorflow:global_step/sec: 636.538\n",
            "INFO:tensorflow:loss = 0.7617291, step = 2600 (0.156 sec)\n",
            "INFO:tensorflow:global_step/sec: 584.653\n",
            "INFO:tensorflow:loss = 0.74771434, step = 2700 (0.172 sec)\n",
            "INFO:tensorflow:global_step/sec: 633.968\n",
            "INFO:tensorflow:loss = 0.73418665, step = 2800 (0.158 sec)\n",
            "INFO:tensorflow:global_step/sec: 588.236\n",
            "INFO:tensorflow:loss = 0.7371081, step = 2900 (0.173 sec)\n",
            "INFO:tensorflow:global_step/sec: 616.819\n",
            "INFO:tensorflow:loss = 0.72491556, step = 3000 (0.159 sec)\n",
            "INFO:tensorflow:global_step/sec: 614.838\n",
            "INFO:tensorflow:loss = 0.71702164, step = 3100 (0.165 sec)\n",
            "INFO:tensorflow:global_step/sec: 599.603\n",
            "INFO:tensorflow:loss = 0.7074893, step = 3200 (0.164 sec)\n",
            "INFO:tensorflow:global_step/sec: 625.732\n",
            "INFO:tensorflow:loss = 0.69976974, step = 3300 (0.159 sec)\n",
            "INFO:tensorflow:global_step/sec: 614.284\n",
            "INFO:tensorflow:loss = 0.70968187, step = 3400 (0.163 sec)\n",
            "INFO:tensorflow:global_step/sec: 612.5\n",
            "INFO:tensorflow:loss = 0.68730617, step = 3500 (0.163 sec)\n",
            "INFO:tensorflow:global_step/sec: 623.516\n",
            "INFO:tensorflow:loss = 0.6854595, step = 3600 (0.165 sec)\n",
            "INFO:tensorflow:global_step/sec: 564.845\n",
            "INFO:tensorflow:loss = 0.6790847, step = 3700 (0.173 sec)\n",
            "INFO:tensorflow:global_step/sec: 532.418\n",
            "INFO:tensorflow:loss = 0.6682899, step = 3800 (0.188 sec)\n",
            "INFO:tensorflow:global_step/sec: 602.645\n",
            "INFO:tensorflow:loss = 0.65506357, step = 3900 (0.167 sec)\n",
            "INFO:tensorflow:global_step/sec: 607.94\n",
            "INFO:tensorflow:loss = 0.6592305, step = 4000 (0.165 sec)\n",
            "INFO:tensorflow:global_step/sec: 614.991\n",
            "INFO:tensorflow:loss = 0.65062964, step = 4100 (0.160 sec)\n",
            "INFO:tensorflow:global_step/sec: 628.704\n",
            "INFO:tensorflow:loss = 0.6415417, step = 4200 (0.159 sec)\n",
            "INFO:tensorflow:global_step/sec: 608.805\n",
            "INFO:tensorflow:loss = 0.6468342, step = 4300 (0.164 sec)\n",
            "INFO:tensorflow:global_step/sec: 604.405\n",
            "INFO:tensorflow:loss = 0.6199521, step = 4400 (0.169 sec)\n",
            "INFO:tensorflow:global_step/sec: 602.869\n",
            "INFO:tensorflow:loss = 0.6140436, step = 4500 (0.165 sec)\n",
            "INFO:tensorflow:global_step/sec: 549.438\n",
            "INFO:tensorflow:loss = 0.6022393, step = 4600 (0.183 sec)\n",
            "INFO:tensorflow:global_step/sec: 613.894\n",
            "INFO:tensorflow:loss = 0.62799495, step = 4700 (0.160 sec)\n",
            "INFO:tensorflow:global_step/sec: 613.401\n",
            "INFO:tensorflow:loss = 0.61509633, step = 4800 (0.164 sec)\n",
            "INFO:tensorflow:global_step/sec: 615.771\n",
            "INFO:tensorflow:loss = 0.5930917, step = 4900 (0.162 sec)\n",
            "INFO:tensorflow:Calling checkpoint listeners before saving checkpoint 5000...\n",
            "INFO:tensorflow:Saving checkpoints for 5000 into /tmp/tmpz4bt9jk2/model.ckpt.\n",
            "INFO:tensorflow:Calling checkpoint listeners after saving checkpoint 5000...\n",
            "INFO:tensorflow:Loss for final step: 0.60449433.\n"
          ],
          "name": "stdout"
        },
        {
          "output_type": "execute_result",
          "data": {
            "text/plain": [
              "<tensorflow_estimator.python.estimator.canned.dnn.DNNClassifierV2 at 0x7f8db83b3f60>"
            ]
          },
          "metadata": {
            "tags": []
          },
          "execution_count": 24
        }
      ]
    },
    {
      "cell_type": "code",
      "metadata": {
        "id": "-3eYKk89Z0iV",
        "colab_type": "code",
        "colab": {
          "base_uri": "https://localhost:8080/",
          "height": 397
        },
        "outputId": "8f1b0095-9c2b-4b5d-e4a9-9dbeab8c2e49"
      },
      "source": [
        "eval_result = classifier.evaluate(\n",
        "    input_fn=lambda: input_fn(test, test_y, training=False))\n",
        "\n",
        "print('\\nTest set accuracy: {accuracy:0.3f}\\n'.format(**eval_result))"
      ],
      "execution_count": 25,
      "outputs": [
        {
          "output_type": "stream",
          "text": [
            "INFO:tensorflow:Calling model_fn.\n",
            "WARNING:tensorflow:Layer dnn is casting an input tensor from dtype float64 to the layer's dtype of float32, which is new behavior in TensorFlow 2.  The layer has dtype float32 because its dtype defaults to floatx.\n",
            "\n",
            "If you intended to run this layer in float32, you can safely ignore this warning. If in doubt, this warning is likely only an issue if you are porting a TensorFlow 1.X model to TensorFlow 2.\n",
            "\n",
            "To change all layers to have dtype float64 by default, call `tf.keras.backend.set_floatx('float64')`. To change just this layer, pass dtype='float64' to the layer constructor. If you are the author of this layer, you can disable autocasting by passing autocast=False to the base Layer constructor.\n",
            "\n",
            "INFO:tensorflow:Done calling model_fn.\n",
            "INFO:tensorflow:Starting evaluation at 2020-09-22T11:07:51Z\n",
            "INFO:tensorflow:Graph was finalized.\n",
            "INFO:tensorflow:Restoring parameters from /tmp/tmpz4bt9jk2/model.ckpt-5000\n",
            "INFO:tensorflow:Running local_init_op.\n",
            "INFO:tensorflow:Done running local_init_op.\n",
            "INFO:tensorflow:Inference Time : 0.25961s\n",
            "INFO:tensorflow:Finished evaluation at 2020-09-22-11:07:51\n",
            "INFO:tensorflow:Saving dict for global step 5000: accuracy = 0.53333336, average_loss = 0.6945512, global_step = 5000, loss = 0.6945512\n",
            "INFO:tensorflow:Saving 'checkpoint_path' summary for global step 5000: /tmp/tmpz4bt9jk2/model.ckpt-5000\n",
            "\n",
            "Test set accuracy: 0.533\n",
            "\n"
          ],
          "name": "stdout"
        }
      ]
    },
    {
      "cell_type": "code",
      "metadata": {
        "id": "_6V9RHjeaFnq",
        "colab_type": "code",
        "colab": {
          "base_uri": "https://localhost:8080/",
          "height": 233
        },
        "outputId": "6ec03762-0703-4836-cc5e-e5ff715dc210"
      },
      "source": [
        "def input_fn(features, batch_size=256):\n",
        "    # Convert the inputs to a Dataset without labels.\n",
        "    return tf.data.Dataset.from_tensor_slices(dict(features)).batch(batch_size)\n",
        "\n",
        "features = ['SepalLength', 'SepalWidth', 'PetalLength', 'PetalWidth']\n",
        "predict = {}\n",
        "\n",
        "print(\"Please type numeric values as prompted.\")\n",
        "for feature in features:\n",
        "  valid = True\n",
        "  while valid: \n",
        "    val = input(feature + \": \")\n",
        "    if not val.isdigit(): valid = False\n",
        "\n",
        "  predict[feature] = [float(val)]\n",
        "\n",
        "predictions = classifier.predict(input_fn=lambda: input_fn(predict))\n",
        "for pred_dict in predictions:\n",
        "    class_id = pred_dict['class_ids'][0]\n",
        "    probability = pred_dict['probabilities'][class_id]\n",
        "\n",
        "    print('Prediction is \"{}\" ({:.1f}%)'.format(\n",
        "        SPECIES[class_id], 100 * probability))"
      ],
      "execution_count": 29,
      "outputs": [
        {
          "output_type": "stream",
          "text": [
            "Please type numeric values as prompted.\n",
            "SepalLength: 5.1\n",
            "SepalWidth: 3.3\n",
            "PetalLength: 1.7\n",
            "PetalWidth: 0.5\n",
            "INFO:tensorflow:Calling model_fn.\n",
            "INFO:tensorflow:Done calling model_fn.\n",
            "INFO:tensorflow:Graph was finalized.\n",
            "INFO:tensorflow:Restoring parameters from /tmp/tmpz4bt9jk2/model.ckpt-5000\n",
            "INFO:tensorflow:Running local_init_op.\n",
            "INFO:tensorflow:Done running local_init_op.\n",
            "Prediction is \"Setosa\" (67.1%)\n"
          ],
          "name": "stdout"
        }
      ]
    },
    {
      "cell_type": "code",
      "metadata": {
        "id": "er0p689-aJY1",
        "colab_type": "code",
        "colab": {}
      },
      "source": [
        "# Here is some example input and expected classes you can try above\n",
        "expected = ['Setosa', 'Versicolor', 'Virginica']\n",
        "predict_x = {\n",
        "    'SepalLength': [5.1, 5.9, 6.9],\n",
        "    'SepalWidth': [3.3, 3.0, 3.1],\n",
        "    'PetalLength': [1.7, 4.2, 5.4],\n",
        "    'PetalWidth': [0.5, 1.5, 2.1],\n",
        "}"
      ],
      "execution_count": 31,
      "outputs": []
    }
  ]
}